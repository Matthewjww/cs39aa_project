{
 "cells": [
  {
   "cell_type": "markdown",
   "metadata": {},
   "source": [
    "## Introduction/Background\n",
    "The goal of the project is to generate news headlines from the text of an article. This is a __text summarization__ problem, as the headline of an article should be a one to two sentence summary of what the reader should expect to read in the article. The data set I will be using, nyt_news, was created using news-please, a news web-scraper. The web-scraper is provided a url(s) and searches those sites for articles, then saves the articles as an HTML file, and a JSON file. For my project I used https://www.nytimes.com as the URL to scrape. While news-please creates many fields from the website, the fields I used from the dataset are _title_ and _maintext_, which represent the titles of news articles and the text content of the article.\n"
   ]
  },
  {
   "cell_type": "markdown",
   "metadata": {},
   "source": [
    "## Exploratory Data Analysis\n",
    "Let's start by loading the data and looking at what news-scraper produced."
   ]
  },
  {
   "cell_type": "code",
   "execution_count": 11,
   "metadata": {},
   "outputs": [
    {
     "name": "stdout",
     "output_type": "stream",
     "text": [
      "   Unnamed: 0                           authors        date_download  \\\n",
      "0           0                   ['John Leland']  2022-10-25 23:38:21   \n",
      "1           0                                []  2022-10-25 23:47:05   \n",
      "2           0                  ['Eric Schmitt']  2022-10-25 23:53:44   \n",
      "3           0  ['Elena Bergeron', 'Ken Belson']  2022-10-25 23:28:05   \n",
      "4           0               ['Nick Corasaniti']  2022-10-25 23:27:22   \n",
      "\n",
      "           date_modify         date_publish  \\\n",
      "0  2022-10-25 23:38:21  2011-12-17 02:07:26   \n",
      "1  2022-10-25 23:47:05  2019-08-16 13:53:18   \n",
      "2  2022-10-25 23:53:44  2018-10-27 14:44:43   \n",
      "3  2022-10-25 23:28:05  2020-10-03 16:06:18   \n",
      "4  2022-10-25 23:27:22  2021-03-25 21:31:32   \n",
      "\n",
      "                                         description  \\\n",
      "0  Dennis Crowley, a co-founder of the social net...   \n",
      "1                                                NaN   \n",
      "2  Defense Secretary Jim Mattis’s remarks reflect...   \n",
      "3  Cam Newton was among those who tested positive...   \n",
      "4  The law, which has been denounced by Democrats...   \n",
      "\n",
      "                                            filename  \\\n",
      "0  2011_12_18_nyregion_on-sundays-foursquare-co-f...   \n",
      "1  2019_08_16_world_europe_trump-greenland_166674...   \n",
      "2  2018_10_27_world_middleeast_mattis-saudi-arabi...   \n",
      "3  2020_10_03_sports_football_coronavirus-cam-new...   \n",
      "4  2021_03_25_us_politics_georgia-voting-law-repu...   \n",
      "\n",
      "                                           image_url language  \\\n",
      "0  https://static01.nyt.com/images/2011/12/18/nyr...       en   \n",
      "1  https://www.nytimes.com/2019/08/16/world/europ...       en   \n",
      "2  https://static01.nyt.com/images/2018/10/28/wor...       en   \n",
      "3  https://static01.nyt.com/images/2020/10/03/spo...       en   \n",
      "4  https://static01.nyt.com/images/2021/03/25/us/...       en   \n",
      "\n",
      "                                           localpath  \\\n",
      "0  /Users/matthewwhite/news-please-repo//data/202...   \n",
      "1  /Users/matthewwhite/news-please-repo//data/202...   \n",
      "2  /Users/matthewwhite/news-please-repo//data/202...   \n",
      "3  /Users/matthewwhite/news-please-repo//data/202...   \n",
      "4  /Users/matthewwhite/news-please-repo//data/202...   \n",
      "\n",
      "                                               title  \\\n",
      "0  On Sundays, Foursquare Co-founder Goes Online,...   \n",
      "1                                                NaN   \n",
      "2  Mattis Vows U.S. Will Hold Khashoggi’s Killers...   \n",
      "3  Patriots-Chiefs Game Postponed After Positive ...   \n",
      "4    Georgia G.O.P. Passes Major Law to Limit Voting   \n",
      "\n",
      "                                          title_page  title_rss source_domain  \\\n",
      "0  On Sundays, Foursquare Co-founder Goes Online,...        NaN   nytimes.com   \n",
      "1  ‘Greenland Is Not for Sale’: Trump’s Talk of a...        NaN   nytimes.com   \n",
      "2  Mattis Vows U.S. Will Hold Khashoggi’s Killers...        NaN   nytimes.com   \n",
      "3  Patriots-Chiefs Game Postponed After Positive ...        NaN   nytimes.com   \n",
      "4  Georgia G.O.P. Passes Major Law to Limit Votin...        NaN   nytimes.com   \n",
      "\n",
      "                                            maintext  \\\n",
      "0  NIBBLE OF NEW YORK I don’t have a set schedule...   \n",
      "1                                                NaN   \n",
      "2  Mr. Trump did not elaborate on the conversatio...   \n",
      "3  The league has followed Major League Baseball ...   \n",
      "4  In brief remarks on Thursday evening, Mr. Kemp...   \n",
      "\n",
      "                                                 url  \\\n",
      "0  https://www.nytimes.com/2011/12/18/nyregion/on...   \n",
      "1  https://www.nytimes.com/2019/08/16/world/europ...   \n",
      "2  https://www.nytimes.com/2018/10/27/world/middl...   \n",
      "3  https://www.nytimes.com/2020/10/03/sports/foot...   \n",
      "4  https://www.nytimes.com/2021/03/25/us/politics...   \n",
      "\n",
      "                                                site  \n",
      "0  2011_12_18_nyregion_on-sundays-foursquare-co-f...  \n",
      "1  2019_08_16_world_europe_trump-greenland_166674...  \n",
      "2  2018_10_27_world_middleeast_mattis-saudi-arabi...  \n",
      "3  2020_10_03_sports_football_coronavirus-cam-new...  \n",
      "4  2021_03_25_us_politics_georgia-voting-law-repu...  \n"
     ]
    }
   ],
   "source": [
    "# import all of the python modules/packages you'll need here\n",
    "import matplotlib\n",
    "import matplotlib.pyplot as plt\n",
    "import pandas as pd\n",
    "from nltk.tokenize import word_tokenize\n",
    "import seaborn as sns\n",
    "from nltk.corpus import stopwords\n",
    "from collections import  Counter\n",
    "\n",
    "df = pd.read_csv('nytimes_news.csv') # Load the dataset from a CSV\n",
    "print(df.head())"
   ]
  },
  {
   "cell_type": "markdown",
   "source": [
    "We start by cleaning our data, removing columns produced by new-scraper we definitely do not need in the future, and removing null values for maintext and title (article text and headlines respectively)."
   ],
   "metadata": {
    "collapsed": false
   }
  },
  {
   "cell_type": "code",
   "execution_count": 12,
   "metadata": {},
   "outputs": [
    {
     "data": {
      "text/plain": "                                         description language  \\\n0  Dennis Crowley, a co-founder of the social net...       en   \n2  Defense Secretary Jim Mattis’s remarks reflect...       en   \n3  Cam Newton was among those who tested positive...       en   \n4  The law, which has been denounced by Democrats...       en   \n5  I’m the art editor at The Times. Here are five...       en   \n\n                                               title  \\\n0  On Sundays, Foursquare Co-founder Goes Online,...   \n2  Mattis Vows U.S. Will Hold Khashoggi’s Killers...   \n3  Patriots-Chiefs Game Postponed After Positive ...   \n4    Georgia G.O.P. Passes Major Law to Limit Voting   \n5        What’s in Our Queue? Young Fathers and More   \n\n                                            maintext  \n0  NIBBLE OF NEW YORK I don’t have a set schedule...  \n2  Mr. Trump did not elaborate on the conversatio...  \n3  The league has followed Major League Baseball ...  \n4  In brief remarks on Thursday evening, Mr. Kemp...  \n5  What’s in Our Queue? Young Fathers and More Ba...  ",
      "text/html": "<div>\n<style scoped>\n    .dataframe tbody tr th:only-of-type {\n        vertical-align: middle;\n    }\n\n    .dataframe tbody tr th {\n        vertical-align: top;\n    }\n\n    .dataframe thead th {\n        text-align: right;\n    }\n</style>\n<table border=\"1\" class=\"dataframe\">\n  <thead>\n    <tr style=\"text-align: right;\">\n      <th></th>\n      <th>description</th>\n      <th>language</th>\n      <th>title</th>\n      <th>maintext</th>\n    </tr>\n  </thead>\n  <tbody>\n    <tr>\n      <th>0</th>\n      <td>Dennis Crowley, a co-founder of the social net...</td>\n      <td>en</td>\n      <td>On Sundays, Foursquare Co-founder Goes Online,...</td>\n      <td>NIBBLE OF NEW YORK I don’t have a set schedule...</td>\n    </tr>\n    <tr>\n      <th>2</th>\n      <td>Defense Secretary Jim Mattis’s remarks reflect...</td>\n      <td>en</td>\n      <td>Mattis Vows U.S. Will Hold Khashoggi’s Killers...</td>\n      <td>Mr. Trump did not elaborate on the conversatio...</td>\n    </tr>\n    <tr>\n      <th>3</th>\n      <td>Cam Newton was among those who tested positive...</td>\n      <td>en</td>\n      <td>Patriots-Chiefs Game Postponed After Positive ...</td>\n      <td>The league has followed Major League Baseball ...</td>\n    </tr>\n    <tr>\n      <th>4</th>\n      <td>The law, which has been denounced by Democrats...</td>\n      <td>en</td>\n      <td>Georgia G.O.P. Passes Major Law to Limit Voting</td>\n      <td>In brief remarks on Thursday evening, Mr. Kemp...</td>\n    </tr>\n    <tr>\n      <th>5</th>\n      <td>I’m the art editor at The Times. Here are five...</td>\n      <td>en</td>\n      <td>What’s in Our Queue? Young Fathers and More</td>\n      <td>What’s in Our Queue? Young Fathers and More Ba...</td>\n    </tr>\n  </tbody>\n</table>\n</div>"
     },
     "execution_count": 12,
     "metadata": {},
     "output_type": "execute_result"
    }
   ],
   "source": [
    "# Here we clean the data.\n",
    "df = df.dropna(subset =['title', 'maintext']) # remove entries where the title or maintext are missing.\n",
    "df = df.drop(columns=['Unnamed: 0','date_download','date_modify','date_publish','authors','filename','image_url','localpath','title_rss','source_domain','url','site','title_page'])\n",
    "df.head()"
   ]
  },
  {
   "cell_type": "markdown",
   "source": [
    "Now let's look at our data. Run the cell below to see some statistics of maintext, the article text we are most concerned with since we will be summarizing it with a headline."
   ],
   "metadata": {
    "collapsed": false
   }
  },
  {
   "cell_type": "code",
   "execution_count": 13,
   "outputs": [
    {
     "data": {
      "text/plain": "count                                                 11157\nunique                                                10819\ntop       Send any friend a story\\nAs a subscriber, you ...\nfreq                                                     18\nName: maintext, dtype: object"
     },
     "execution_count": 13,
     "metadata": {},
     "output_type": "execute_result"
    }
   ],
   "source": [
    "df.maintext.describe()"
   ],
   "metadata": {
    "collapsed": false,
    "pycharm": {
     "name": "#%%\n"
    }
   }
  },
  {
   "cell_type": "markdown",
   "source": [
    "Let's look at some information on the length of an article, by character length."
   ],
   "metadata": {
    "collapsed": false
   }
  },
  {
   "cell_type": "markdown",
   "source": [
    "Here is the number of words in an article."
   ],
   "metadata": {
    "collapsed": false
   }
  },
  {
   "cell_type": "code",
   "execution_count": 14,
   "outputs": [
    {
     "data": {
      "text/plain": "<AxesSubplot:ylabel='Frequency'>"
     },
     "execution_count": 14,
     "metadata": {},
     "output_type": "execute_result"
    },
    {
     "data": {
      "text/plain": "<Figure size 640x480 with 1 Axes>",
      "image/png": "[encoded data removed]"
     },
     "metadata": {},
     "output_type": "display_data"
    }
   ],
   "source": [
    "df.maintext.str.split().\\\n",
    "    map(lambda x: len(x)).\\\n",
    "    plot(ylabel='articles', xlabel='sentences', kind= 'hist', bins= [50, 100, 150, 200, 250, 300])"
   ],
   "metadata": {
    "collapsed": false,
    "pycharm": {
     "name": "#%%\n"
    }
   }
  },
  {
   "cell_type": "markdown",
   "source": [
    "The most common words in an article are (surprise) stop words. We will keep them though because they are an important part of language, and we want to eventually create headlines that make sense."
   ],
   "metadata": {
    "collapsed": false
   }
  },
  {
   "cell_type": "code",
   "execution_count": 15,
   "outputs": [
    {
     "data": {
      "text/plain": "<BarContainer object of 10 artists>"
     },
     "execution_count": 15,
     "metadata": {},
     "output_type": "execute_result"
    },
    {
     "data": {
      "text/plain": "<Figure size 640x480 with 1 Axes>",
      "image/png": "[encoded data removed]"
     },
     "metadata": {},
     "output_type": "display_data"
    }
   ],
   "source": [
    "stop=set(stopwords.words('english'))\n",
    "corpus=[]\n",
    "new= df['maintext'].str.split()\n",
    "new=new.values.tolist()\n",
    "corpus=[word for i in new for word in i]\n",
    "\n",
    "from collections import defaultdict\n",
    "dic=defaultdict(int)\n",
    "for word in corpus:\n",
    "    if word in stop:\n",
    "        dic[word]+=1\n",
    "\n",
    "top=sorted(dic.items(), key=lambda x:x[1],reverse=True)[:10]\n",
    "x,y=zip(*top)\n",
    "plt.bar(x,y)"
   ],
   "metadata": {
    "collapsed": false,
    "pycharm": {
     "name": "#%%\n"
    }
   }
  },
  {
   "cell_type": "markdown",
   "source": [],
   "metadata": {
    "collapsed": false
   }
  },
  {
   "cell_type": "code",
   "execution_count": 16,
   "outputs": [
    {
     "data": {
      "text/plain": "<Figure size 640x480 with 1 Axes>",
      "image/png": "[encoded data removed]"
     },
     "metadata": {},
     "output_type": "display_data"
    }
   ],
   "source": [
    "\n",
    "def plot_top_non_stopwords_barchart(text):\n",
    "    stops=set(stopwords.words('english'))\n",
    "\n",
    "    new= text.str.lower()\n",
    "    new= new.str.split()\n",
    "    new= new.values.tolist()\n",
    "    corpus=[word for i in new for word in i]\n",
    "\n",
    "    counter=Counter(corpus)\n",
    "    most=counter.most_common()\n",
    "    x, y=[], []\n",
    "    for word,count in most[:100]:\n",
    "        if word not in stops:\n",
    "            x.append(word)\n",
    "            y.append(count)\n",
    "\n",
    "    sns.barplot(x=y,y=x)\n",
    "\n",
    "plot_top_non_stopwords_barchart(df['maintext'])"
   ],
   "metadata": {
    "collapsed": false,
    "pycharm": {
     "name": "#%%\n"
    }
   }
  },
  {
   "cell_type": "markdown",
   "source": [
    "## Tokenization\n",
    "\n",
    "Here we start to tokenize our article text."
   ],
   "metadata": {
    "collapsed": false
   }
  },
  {
   "cell_type": "code",
   "execution_count": 17,
   "outputs": [
    {
     "data": {
      "text/plain": "                                         description language  \\\n0  Dennis Crowley, a co-founder of the social net...       en   \n2  Defense Secretary Jim Mattis’s remarks reflect...       en   \n3  Cam Newton was among those who tested positive...       en   \n4  The law, which has been denounced by Democrats...       en   \n5  I’m the art editor at The Times. Here are five...       en   \n\n                                               title  \\\n0  On Sundays, Foursquare Co-founder Goes Online,...   \n2  Mattis Vows U.S. Will Hold Khashoggi’s Killers...   \n3  Patriots-Chiefs Game Postponed After Positive ...   \n4    Georgia G.O.P. Passes Major Law to Limit Voting   \n5        What’s in Our Queue? Young Fathers and More   \n\n                                            maintext  \\\n0  NIBBLE OF NEW YORK I don’t have a set schedule...   \n2  Mr. Trump did not elaborate on the conversatio...   \n3  The league has followed Major League Baseball ...   \n4  In brief remarks on Thursday evening, Mr. Kemp...   \n5  What’s in Our Queue? Young Fathers and More Ba...   \n\n                                          raw_tokens  \n0  [nibble, of, new, york, i, don, ’, t, have, a,...  \n2  [mr., trump, did, not, elaborate, on, the, con...  \n3  [the, league, has, followed, major, league, ba...  \n4  [in, brief, remarks, on, thursday, evening, ,,...  \n5  [what, ’, s, in, our, queue, ?, young, fathers...  ",
      "text/html": "<div>\n<style scoped>\n    .dataframe tbody tr th:only-of-type {\n        vertical-align: middle;\n    }\n\n    .dataframe tbody tr th {\n        vertical-align: top;\n    }\n\n    .dataframe thead th {\n        text-align: right;\n    }\n</style>\n<table border=\"1\" class=\"dataframe\">\n  <thead>\n    <tr style=\"text-align: right;\">\n      <th></th>\n      <th>description</th>\n      <th>language</th>\n      <th>title</th>\n      <th>maintext</th>\n      <th>raw_tokens</th>\n    </tr>\n  </thead>\n  <tbody>\n    <tr>\n      <th>0</th>\n      <td>Dennis Crowley, a co-founder of the social net...</td>\n      <td>en</td>\n      <td>On Sundays, Foursquare Co-founder Goes Online,...</td>\n      <td>NIBBLE OF NEW YORK I don’t have a set schedule...</td>\n      <td>[nibble, of, new, york, i, don, ’, t, have, a,...</td>\n    </tr>\n    <tr>\n      <th>2</th>\n      <td>Defense Secretary Jim Mattis’s remarks reflect...</td>\n      <td>en</td>\n      <td>Mattis Vows U.S. Will Hold Khashoggi’s Killers...</td>\n      <td>Mr. Trump did not elaborate on the conversatio...</td>\n      <td>[mr., trump, did, not, elaborate, on, the, con...</td>\n    </tr>\n    <tr>\n      <th>3</th>\n      <td>Cam Newton was among those who tested positive...</td>\n      <td>en</td>\n      <td>Patriots-Chiefs Game Postponed After Positive ...</td>\n      <td>The league has followed Major League Baseball ...</td>\n      <td>[the, league, has, followed, major, league, ba...</td>\n    </tr>\n    <tr>\n      <th>4</th>\n      <td>The law, which has been denounced by Democrats...</td>\n      <td>en</td>\n      <td>Georgia G.O.P. Passes Major Law to Limit Voting</td>\n      <td>In brief remarks on Thursday evening, Mr. Kemp...</td>\n      <td>[in, brief, remarks, on, thursday, evening, ,,...</td>\n    </tr>\n    <tr>\n      <th>5</th>\n      <td>I’m the art editor at The Times. Here are five...</td>\n      <td>en</td>\n      <td>What’s in Our Queue? Young Fathers and More</td>\n      <td>What’s in Our Queue? Young Fathers and More Ba...</td>\n      <td>[what, ’, s, in, our, queue, ?, young, fathers...</td>\n    </tr>\n  </tbody>\n</table>\n</div>"
     },
     "execution_count": 17,
     "metadata": {},
     "output_type": "execute_result"
    }
   ],
   "source": [
    "df['raw_tokens'] = df['maintext'].apply(lambda x: word_tokenize(x.lower()))\n",
    "# df['raw_tokens'] = df['maintext'].apply(lambda x: x.split()) # used whitespace tokenization for now because nltk is being rude.\n",
    "df.head()"
   ],
   "metadata": {
    "collapsed": false,
    "pycharm": {
     "name": "#%%\n"
    }
   }
  },
  {
   "cell_type": "markdown",
   "source": [
    "Next we remove punctuation. I left in stop words because they are needed in actual readable text generation. One issue I had is removing ' s, but I might want to find a way to preserve contractions (don't) actually. "
   ],
   "metadata": {
    "collapsed": false,
    "pycharm": {
     "name": "#%% md\n"
    }
   }
  },
  {
   "cell_type": "code",
   "execution_count": 18,
   "outputs": [
    {
     "data": {
      "text/plain": "                                         description language  \\\n0  Dennis Crowley, a co-founder of the social net...       en   \n2  Defense Secretary Jim Mattis’s remarks reflect...       en   \n3  Cam Newton was among those who tested positive...       en   \n4  The law, which has been denounced by Democrats...       en   \n5  I’m the art editor at The Times. Here are five...       en   \n\n                                               title  \\\n0  On Sundays, Foursquare Co-founder Goes Online,...   \n2  Mattis Vows U.S. Will Hold Khashoggi’s Killers...   \n3  Patriots-Chiefs Game Postponed After Positive ...   \n4    Georgia G.O.P. Passes Major Law to Limit Voting   \n5        What’s in Our Queue? Young Fathers and More   \n\n                                            maintext  \\\n0  NIBBLE OF NEW YORK I don’t have a set schedule...   \n2  Mr. Trump did not elaborate on the conversatio...   \n3  The league has followed Major League Baseball ...   \n4  In brief remarks on Thursday evening, Mr. Kemp...   \n5  What’s in Our Queue? Young Fathers and More Ba...   \n\n                                          raw_tokens  \n0  [nibble, of, new, york, i, don, ’, t, have, a,...  \n2  [mr., trump, did, not, elaborate, on, the, con...  \n3  [the, league, has, followed, major, league, ba...  \n4  [in, brief, remarks, on, thursday, evening, mr...  \n5  [what, ’, s, in, our, queue, young, fathers, a...  ",
      "text/html": "<div>\n<style scoped>\n    .dataframe tbody tr th:only-of-type {\n        vertical-align: middle;\n    }\n\n    .dataframe tbody tr th {\n        vertical-align: top;\n    }\n\n    .dataframe thead th {\n        text-align: right;\n    }\n</style>\n<table border=\"1\" class=\"dataframe\">\n  <thead>\n    <tr style=\"text-align: right;\">\n      <th></th>\n      <th>description</th>\n      <th>language</th>\n      <th>title</th>\n      <th>maintext</th>\n      <th>raw_tokens</th>\n    </tr>\n  </thead>\n  <tbody>\n    <tr>\n      <th>0</th>\n      <td>Dennis Crowley, a co-founder of the social net...</td>\n      <td>en</td>\n      <td>On Sundays, Foursquare Co-founder Goes Online,...</td>\n      <td>NIBBLE OF NEW YORK I don’t have a set schedule...</td>\n      <td>[nibble, of, new, york, i, don, ’, t, have, a,...</td>\n    </tr>\n    <tr>\n      <th>2</th>\n      <td>Defense Secretary Jim Mattis’s remarks reflect...</td>\n      <td>en</td>\n      <td>Mattis Vows U.S. Will Hold Khashoggi’s Killers...</td>\n      <td>Mr. Trump did not elaborate on the conversatio...</td>\n      <td>[mr., trump, did, not, elaborate, on, the, con...</td>\n    </tr>\n    <tr>\n      <th>3</th>\n      <td>Cam Newton was among those who tested positive...</td>\n      <td>en</td>\n      <td>Patriots-Chiefs Game Postponed After Positive ...</td>\n      <td>The league has followed Major League Baseball ...</td>\n      <td>[the, league, has, followed, major, league, ba...</td>\n    </tr>\n    <tr>\n      <th>4</th>\n      <td>The law, which has been denounced by Democrats...</td>\n      <td>en</td>\n      <td>Georgia G.O.P. Passes Major Law to Limit Voting</td>\n      <td>In brief remarks on Thursday evening, Mr. Kemp...</td>\n      <td>[in, brief, remarks, on, thursday, evening, mr...</td>\n    </tr>\n    <tr>\n      <th>5</th>\n      <td>I’m the art editor at The Times. Here are five...</td>\n      <td>en</td>\n      <td>What’s in Our Queue? Young Fathers and More</td>\n      <td>What’s in Our Queue? Young Fathers and More Ba...</td>\n      <td>[what, ’, s, in, our, queue, young, fathers, a...</td>\n    </tr>\n  </tbody>\n</table>\n</div>"
     },
     "execution_count": 18,
     "metadata": {},
     "output_type": "execute_result"
    }
   ],
   "source": [
    "# from nltk.corpus import stopwords\n",
    "# Code by sgeinitz, https://github.com/sgeinitz/cs39aa_notebooks/blob/main/nb_C_airline_tweets_take2.ipynb\n",
    "# Thank you!\n",
    "# stops = set(stopwords.words('english'))\n",
    "chars2remove = set(['.','!','/', '?', '\\'', ','])\n",
    "# df['raw_tokens'] = df['raw_tokens'].apply(lambda x: [w for w in x if w not in stops])\n",
    "df['raw_tokens'] = df['raw_tokens'].apply(lambda x: [w for w in x if w not in chars2remove])\n",
    "# df['raw_tokens'] = df['raw_tokens'].apply(lambda x: [w for w in x if not re.match('^#', w)])\n",
    "df.head()"
   ],
   "metadata": {
    "collapsed": false,
    "pycharm": {
     "name": "#%%\n"
    }
   }
  },
  {
   "cell_type": "markdown",
   "source": [
    "__Here are the tokens!__"
   ],
   "metadata": {
    "collapsed": false,
    "pycharm": {
     "name": "#%% md\n"
    }
   }
  },
  {
   "cell_type": "code",
   "execution_count": 19,
   "outputs": [
    {
     "data": {
      "text/plain": "0        [nibble, of, new, york, i, don, ’, t, have, a,...\n2        [mr., trump, did, not, elaborate, on, the, con...\n3        [the, league, has, followed, major, league, ba...\n4        [in, brief, remarks, on, thursday, evening, mr...\n5        [what, ’, s, in, our, queue, young, fathers, a...\n                               ...                        \n11405    [shooting, in, midtown, manhattan, new, york, ...\n11406    [archived, recording, (, gov, andrew, cuomo, )...\n11407    [education, officials, in, new, york, city, on...\n11408    [mr., flug, who, heads, both, the, beekman, hi...\n11409    [in, the, more, than, six, years, since, his, ...\nName: raw_tokens, Length: 11157, dtype: object"
     },
     "execution_count": 19,
     "metadata": {},
     "output_type": "execute_result"
    }
   ],
   "source": [
    "df['raw_tokens']"
   ],
   "metadata": {
    "collapsed": false,
    "pycharm": {
     "name": "#%%\n"
    }
   }
  }
 ],
 "metadata": {
  "kernelspec": {
   "display_name": "Python 3.9.12 ('base')",
   "language": "python",
   "name": "python3"
  },
  "language_info": {
   "codemirror_mode": {
    "name": "ipython",
    "version": 3
   },
   "file_extension": ".py",
   "mimetype": "text/x-python",
   "name": "python",
   "nbconvert_exporter": "python",
   "pygments_lexer": "ipython3",
   "version": "3.9.13"
  },
  "orig_nbformat": 4,
  "vscode": {
   "interpreter": {
    "hash": "bb3398f4b21c7b026dd5874af3f954bf25f1e8ff81e25d82a94abcbbaacf760b"
   }
  }
 },
 "nbformat": 4,
 "nbformat_minor": 2
}