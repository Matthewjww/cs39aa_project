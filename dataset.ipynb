{
 "cells": [
  {
   "cell_type": "code",
   "execution_count": 106,
   "outputs": [],
   "source": [
    "import pandas as pd\n",
    "import glob, os, json, csv\n",
    "\n",
    "\n",
    "json_dir = 'nytimes.com/'\n",
    "\n",
    "json_pattern = os.path.join(json_dir, '*.json')\n",
    "file_list = glob.glob(json_pattern)\n",
    "\n",
    "dfs = []\n",
    "for file in file_list:\n",
    "    with open(file) as f:\n",
    "        json_data = pd.json_normalize(json.loads(f.read()))\n",
    "        json_data['site'] = file.rsplit(\"/\", 1)[-1]\n",
    "    dfs.append(json_data)\n",
    "df = pd.concat(dfs)\n",
    "\n",
    "df = df.dropna(subset =['title', 'maintext']) # remove entries where the title or maintext are missing.\n",
    "df = df.drop(columns=['date_download','date_modify','date_publish','authors','filename','image_url','localpath','title_rss','source_domain','url','site','title_page', 'language', 'description']) # drop unused columns\n",
    "df.drop_duplicates('maintext') # drop duplicate articles\n",
    "\n",
    "# Here I spent time trying to get rid of carriage returns which were causing issues when parsing the CSV later on.\n",
    "# The thing that FINALLY got rid of them was doing .split() then .join().\n",
    "df['maintext'] = df['maintext'].str.replace('/n',' ')\n",
    "df['maintext'] = df['maintext'].str.replace('~',' ')\n",
    "df['title'] = df['title'].str.replace('/n',' ')\n",
    "df['title'] = df['title'].str.replace('~',' ')\n",
    "df['maintext'] = df['maintext'].str.replace('/r',' ')\n",
    "df['title'] = df['title'].str.replace('/r',' ')\n",
    "df['maintext'] = df['maintext'].str.strip()\n",
    "df['title'] = df['title'].str.strip()\n",
    "df['maintext'] = df['maintext'].str.split()\n",
    "df['title'] = df['title'].str.split()\n",
    "df['maintext'] = df['maintext'].str.join(sep=' ')\n",
    "df['title'] = df['title'].str.join(sep=' ')\n",
    "df.to_csv('nyt_all.csv', sep='~') # Create csv of all entries"
   ],
   "metadata": {
    "collapsed": false,
    "pycharm": {
     "name": "#%%\n"
    }
   }
  },
  {
   "cell_type": "code",
   "execution_count": 109,
   "outputs": [],
   "source": [
    "df_train = df.iloc[:6000] # assign some entries to train\n",
    "df_val = df.iloc[6001:9001]  # ' ' to validation\n",
    "\n",
    "# create train and val CSV, delineated by ~ because that did not appear in my dataset, and I wanted to reduce any confusion when parsing.\n",
    "df_train.to_csv('nyt_train.csv', sep='~', encoding='utf-8')\n",
    "df_val.to_csv('nyt_val.csv', sep='~', encoding='utf-8')"
   ],
   "metadata": {
    "collapsed": false,
    "pycharm": {
     "name": "#%%\n"
    }
   }
  },
  {
   "cell_type": "code",
   "execution_count": 108,
   "outputs": [],
   "source": [
    "# optional test cases\n",
    "df_test = df.iloc[9002:10002]\n",
    "df_test.to_csv('nyt_test.csv', sep='~', encoding='utf-8')"
   ],
   "metadata": {
    "collapsed": false,
    "pycharm": {
     "name": "#%%\n"
    }
   }
  },
  {
   "cell_type": "code",
   "execution_count": null,
   "outputs": [],
   "source": [],
   "metadata": {
    "collapsed": false,
    "pycharm": {
     "name": "#%%\n"
    }
   }
  }
 ],
 "metadata": {
  "kernelspec": {
   "display_name": "Python 3",
   "language": "python",
   "name": "python3"
  },
  "language_info": {
   "codemirror_mode": {
    "name": "ipython",
    "version": 2
   },
   "file_extension": ".py",
   "mimetype": "text/x-python",
   "name": "python",
   "nbconvert_exporter": "python",
   "pygments_lexer": "ipython2",
   "version": "2.7.6"
  }
 },
 "nbformat": 4,
 "nbformat_minor": 0
}