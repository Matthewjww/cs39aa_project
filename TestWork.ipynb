{
 "cells": [
  {
   "cell_type": "code",
   "execution_count": 21,
   "metadata": {
    "collapsed": true
   },
   "outputs": [
    {
     "ename": "TypeError",
     "evalue": "load_dataset() missing 1 required positional argument: 'path'",
     "output_type": "error",
     "traceback": [
      "\u001B[0;31m---------------------------------------------------------------------------\u001B[0m",
      "\u001B[0;31mTypeError\u001B[0m                                 Traceback (most recent call last)",
      "Cell \u001B[0;32mIn [21], line 2\u001B[0m\n\u001B[1;32m      1\u001B[0m \u001B[38;5;28;01mfrom\u001B[39;00m \u001B[38;5;21;01mnlp\u001B[39;00m \u001B[38;5;28;01mimport\u001B[39;00m load_dataset\n\u001B[0;32m----> 2\u001B[0m dataset \u001B[38;5;241m=\u001B[39m \u001B[43mload_dataset\u001B[49m\u001B[43m(\u001B[49m\u001B[43mdata_files\u001B[49m\u001B[38;5;241;43m=\u001B[39;49m\u001B[38;5;124;43m'\u001B[39;49m\u001B[38;5;124;43mnyt_train.csv\u001B[39;49m\u001B[38;5;124;43m'\u001B[39;49m\u001B[43m,\u001B[49m\u001B[43m \u001B[49m\u001B[43msplit\u001B[49m\u001B[38;5;241;43m=\u001B[39;49m\u001B[38;5;124;43m'\u001B[39;49m\u001B[38;5;124;43mtrain\u001B[39;49m\u001B[38;5;124;43m'\u001B[39;49m\u001B[43m)\u001B[49m\n\u001B[1;32m      3\u001B[0m dataset_val \u001B[38;5;241m=\u001B[39m load_dataset(data_files\u001B[38;5;241m=\u001B[39m\u001B[38;5;124m'\u001B[39m\u001B[38;5;124mnyt_train.csv\u001B[39m\u001B[38;5;124m'\u001B[39m, split\u001B[38;5;241m=\u001B[39m\u001B[38;5;124m'\u001B[39m\u001B[38;5;124mvalidation\u001B[39m\u001B[38;5;124m'\u001B[39m)\n\u001B[1;32m      4\u001B[0m \u001B[38;5;28mprint\u001B[39m(dataset\u001B[38;5;241m.\u001B[39mkeys())\n",
      "\u001B[0;31mTypeError\u001B[0m: load_dataset() missing 1 required positional argument: 'path'"
     ]
    }
   ],
   "source": [
    "from nlp import load_dataset\n",
    "dataset = load_dataset('csv', data_files='nyt_train.csv', split='train')\n",
    "dataset_val = load_dataset('csv', data_files='nyt_train.csv', split='validation')\n",
    "print(dataset.keys())\n",
    "print(\"Size of train dataset: \", dataset['train'].shape)\n",
    "print(\"Size of Validation dataset: \", dataset_val['validation'].shape)\n",
    "## Look at Sample Examples\n",
    "print(dataset['train'][0].keys())\n",
    "print(\" Example of text: \", dataset['train'][0]['maintext'])\n",
    "print(\" Example of Summary: \", dataset['train'][0]['title'])\n",
    "## Estimate Average Length of Text and Summary\n",
    "tiny_dataset = dataset['train'].select(list(range(0, 100)))\n",
    "text_len = []\n",
    "summary_len=[]\n",
    "for i in range(len(tiny_dataset)):\n",
    "    example = tiny_dataset[i]\n",
    "    text_example = example['maintext']\n",
    "    text_example = text_example.replace('\\n','')\n",
    "    text_words = text_example.split()\n",
    "    text_len.append(len(text_words))\n",
    "    summary_example = example['title']\n",
    "    summary_example = summary_example.replace('\\n','')\n",
    "    summary_words = summary_example.split()\n",
    "    summary_len.append(len(summary_words))\n",
    "\n",
    "import matplotlib.pyplot as plt\n",
    "%matplotlib inline\n",
    "plt.hist(text_len)\n",
    "plt.show()"
   ]
  },
  {
   "cell_type": "markdown",
   "source": [],
   "metadata": {
    "collapsed": false
   }
  },
  {
   "cell_type": "code",
   "execution_count": 37,
   "outputs": [
    {
     "data": {
      "text/plain": "   Unnamed: 0                                              title  \\\n0        6149                                     Rebekah Brooks   \n1        6150  A Russian Cybersleuth Battles the ‘Dark Ages’ ...   \n2        6151  Soul of the ’60s: Otis Redding’s Short Life an...   \n3        6152  ‘She Wants Well-Qualified People’: 88 Landlord...   \n4        6153  No. 2 Qaeda Leader May Have Died in U.S. Airst...   \n\n                                            maintext  \n0  Rebekah Brooks Said to Be Returning to News Co...  \n1  Mr. Kaspersky and his company find themselves ...  \n2  OTIS REDDING\\nAn Unfinished Life\\nBy Jonathan ...  \n3  For landlords and brokers, participating in th...  \n4  WASHINGTON — Yemeni officials and extremists r...  ",
      "text/html": "<div>\n<style scoped>\n    .dataframe tbody tr th:only-of-type {\n        vertical-align: middle;\n    }\n\n    .dataframe tbody tr th {\n        vertical-align: top;\n    }\n\n    .dataframe thead th {\n        text-align: right;\n    }\n</style>\n<table border=\"1\" class=\"dataframe\">\n  <thead>\n    <tr style=\"text-align: right;\">\n      <th></th>\n      <th>Unnamed: 0</th>\n      <th>title</th>\n      <th>maintext</th>\n    </tr>\n  </thead>\n  <tbody>\n    <tr>\n      <th>0</th>\n      <td>6149</td>\n      <td>Rebekah Brooks</td>\n      <td>Rebekah Brooks Said to Be Returning to News Co...</td>\n    </tr>\n    <tr>\n      <th>1</th>\n      <td>6150</td>\n      <td>A Russian Cybersleuth Battles the ‘Dark Ages’ ...</td>\n      <td>Mr. Kaspersky and his company find themselves ...</td>\n    </tr>\n    <tr>\n      <th>2</th>\n      <td>6151</td>\n      <td>Soul of the ’60s: Otis Redding’s Short Life an...</td>\n      <td>OTIS REDDING\\nAn Unfinished Life\\nBy Jonathan ...</td>\n    </tr>\n    <tr>\n      <th>3</th>\n      <td>6152</td>\n      <td>‘She Wants Well-Qualified People’: 88 Landlord...</td>\n      <td>For landlords and brokers, participating in th...</td>\n    </tr>\n    <tr>\n      <th>4</th>\n      <td>6153</td>\n      <td>No. 2 Qaeda Leader May Have Died in U.S. Airst...</td>\n      <td>WASHINGTON — Yemeni officials and extremists r...</td>\n    </tr>\n  </tbody>\n</table>\n</div>"
     },
     "execution_count": 37,
     "metadata": {},
     "output_type": "execute_result"
    }
   ],
   "source": [
    "import pandas as pd\n",
    "\n",
    "df = pd.read_csv('nyt_train.csv')\n",
    "df.drop(columns=['Unnamed: 0'])\n",
    "df.to_csv('nyt_train_3.csv', sep='~', index=False)\n",
    "df2 = pd.read_csv('nyt_val.csv')\n",
    "df2.drop(columns=['Unnamed: 0'])\n",
    "df.to_csv('nyt_val_3.csv', sep='~', index=False)\n",
    "df2.head()"
   ],
   "metadata": {
    "collapsed": false,
    "pycharm": {
     "name": "#%%\n"
    }
   }
  },
  {
   "cell_type": "code",
   "execution_count": 49,
   "outputs": [],
   "source": [
    "import pandas as pd\n",
    "import glob, os, json\n",
    "\n",
    "\n",
    "json_dir = 'nytimes.com/'\n",
    "\n",
    "json_pattern = os.path.join(json_dir, '*.json')\n",
    "file_list = glob.glob(json_pattern)\n",
    "\n",
    "dfs = []\n",
    "for file in file_list:\n",
    "    with open(file) as f:\n",
    "        json_data = pd.json_normalize(json.loads(f.read()))\n",
    "        json_data['site'] = file.rsplit(\"/\", 1)[-1]\n",
    "    dfs.append(json_data)\n",
    "df = pd.concat(dfs)\n",
    "\n",
    "df = df.dropna(subset =['title', 'maintext']) # remove entries where the title or maintext are missing.\n",
    "df = df.drop(columns=['date_download','date_modify','date_publish','authors','filename','image_url','localpath','title_rss','source_domain','url','site','title_page', 'language', 'description'])\n",
    "df.drop_duplicates('maintext')\n",
    "df.to_csv('nyt_all.csv', sep='~')\n",
    "#df.to_csv('nyt_val1.csv', sep='~')"
   ],
   "metadata": {
    "collapsed": false,
    "pycharm": {
     "name": "#%%\n"
    }
   }
  },
  {
   "cell_type": "code",
   "execution_count": 50,
   "outputs": [],
   "source": [
    "df_train = df.iloc[:6000]\n",
    "df_val = df.iloc[6001:9001]\n",
    "\n",
    "df_train.to_csv('nyt_train.csv', sep='~')\n",
    "df_val.to_csv('nyt_val.csv', sep='~')"
   ],
   "metadata": {
    "collapsed": false,
    "pycharm": {
     "name": "#%%\n"
    }
   }
  },
  {
   "cell_type": "code",
   "execution_count": 51,
   "outputs": [],
   "source": [
    "df_test = df.iloc[9002:10002]\n",
    "df_test.to_csv('nyt_test.csv', sep='~')"
   ],
   "metadata": {
    "collapsed": false,
    "pycharm": {
     "name": "#%%\n"
    }
   }
  }
 ],
 "metadata": {
  "kernelspec": {
   "display_name": "Python 3",
   "language": "python",
   "name": "python3"
  },
  "language_info": {
   "codemirror_mode": {
    "name": "ipython",
    "version": 2
   },
   "file_extension": ".py",
   "mimetype": "text/x-python",
   "name": "python",
   "nbconvert_exporter": "python",
   "pygments_lexer": "ipython2",
   "version": "2.7.6"
  }
 },
 "nbformat": 4,
 "nbformat_minor": 0
}